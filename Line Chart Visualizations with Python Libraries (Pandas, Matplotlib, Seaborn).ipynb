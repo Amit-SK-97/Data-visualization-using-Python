{
 "cells": [
  {
   "cell_type": "code",
   "execution_count": 1,
   "id": "ceb13b6c",
   "metadata": {},
   "outputs": [],
   "source": [
    "import pandas as pd"
   ]
  },
  {
   "cell_type": "code",
   "execution_count": 3,
   "id": "1f11651c",
   "metadata": {},
   "outputs": [],
   "source": [
    "df = pd.read_csv('italy-covid-daywise.csv')"
   ]
  },
  {
   "cell_type": "code",
   "execution_count": 4,
   "id": "38eaf2e5",
   "metadata": {},
   "outputs": [
    {
     "data": {
      "text/html": [
       "<div>\n",
       "<style scoped>\n",
       "    .dataframe tbody tr th:only-of-type {\n",
       "        vertical-align: middle;\n",
       "    }\n",
       "\n",
       "    .dataframe tbody tr th {\n",
       "        vertical-align: top;\n",
       "    }\n",
       "\n",
       "    .dataframe thead th {\n",
       "        text-align: right;\n",
       "    }\n",
       "</style>\n",
       "<table border=\"1\" class=\"dataframe\">\n",
       "  <thead>\n",
       "    <tr style=\"text-align: right;\">\n",
       "      <th></th>\n",
       "      <th>date</th>\n",
       "      <th>new_cases</th>\n",
       "      <th>new_deaths</th>\n",
       "      <th>new_tests</th>\n",
       "    </tr>\n",
       "  </thead>\n",
       "  <tbody>\n",
       "    <tr>\n",
       "      <th>0</th>\n",
       "      <td>2019-12-31</td>\n",
       "      <td>0.0</td>\n",
       "      <td>0.0</td>\n",
       "      <td>NaN</td>\n",
       "    </tr>\n",
       "    <tr>\n",
       "      <th>1</th>\n",
       "      <td>2020-01-01</td>\n",
       "      <td>0.0</td>\n",
       "      <td>0.0</td>\n",
       "      <td>NaN</td>\n",
       "    </tr>\n",
       "    <tr>\n",
       "      <th>2</th>\n",
       "      <td>2020-01-02</td>\n",
       "      <td>0.0</td>\n",
       "      <td>0.0</td>\n",
       "      <td>NaN</td>\n",
       "    </tr>\n",
       "    <tr>\n",
       "      <th>3</th>\n",
       "      <td>2020-01-03</td>\n",
       "      <td>0.0</td>\n",
       "      <td>0.0</td>\n",
       "      <td>NaN</td>\n",
       "    </tr>\n",
       "    <tr>\n",
       "      <th>4</th>\n",
       "      <td>2020-01-04</td>\n",
       "      <td>0.0</td>\n",
       "      <td>0.0</td>\n",
       "      <td>NaN</td>\n",
       "    </tr>\n",
       "    <tr>\n",
       "      <th>...</th>\n",
       "      <td>...</td>\n",
       "      <td>...</td>\n",
       "      <td>...</td>\n",
       "      <td>...</td>\n",
       "    </tr>\n",
       "    <tr>\n",
       "      <th>243</th>\n",
       "      <td>2020-08-30</td>\n",
       "      <td>1444.0</td>\n",
       "      <td>1.0</td>\n",
       "      <td>53541.0</td>\n",
       "    </tr>\n",
       "    <tr>\n",
       "      <th>244</th>\n",
       "      <td>2020-08-31</td>\n",
       "      <td>1365.0</td>\n",
       "      <td>4.0</td>\n",
       "      <td>42583.0</td>\n",
       "    </tr>\n",
       "    <tr>\n",
       "      <th>245</th>\n",
       "      <td>2020-09-01</td>\n",
       "      <td>996.0</td>\n",
       "      <td>6.0</td>\n",
       "      <td>54395.0</td>\n",
       "    </tr>\n",
       "    <tr>\n",
       "      <th>246</th>\n",
       "      <td>2020-09-02</td>\n",
       "      <td>975.0</td>\n",
       "      <td>8.0</td>\n",
       "      <td>NaN</td>\n",
       "    </tr>\n",
       "    <tr>\n",
       "      <th>247</th>\n",
       "      <td>2020-09-03</td>\n",
       "      <td>1326.0</td>\n",
       "      <td>6.0</td>\n",
       "      <td>NaN</td>\n",
       "    </tr>\n",
       "  </tbody>\n",
       "</table>\n",
       "<p>248 rows × 4 columns</p>\n",
       "</div>"
      ],
      "text/plain": [
       "           date  new_cases  new_deaths  new_tests\n",
       "0    2019-12-31        0.0         0.0        NaN\n",
       "1    2020-01-01        0.0         0.0        NaN\n",
       "2    2020-01-02        0.0         0.0        NaN\n",
       "3    2020-01-03        0.0         0.0        NaN\n",
       "4    2020-01-04        0.0         0.0        NaN\n",
       "..          ...        ...         ...        ...\n",
       "243  2020-08-30     1444.0         1.0    53541.0\n",
       "244  2020-08-31     1365.0         4.0    42583.0\n",
       "245  2020-09-01      996.0         6.0    54395.0\n",
       "246  2020-09-02      975.0         8.0        NaN\n",
       "247  2020-09-03     1326.0         6.0        NaN\n",
       "\n",
       "[248 rows x 4 columns]"
      ]
     },
     "execution_count": 4,
     "metadata": {},
     "output_type": "execute_result"
    }
   ],
   "source": [
    "df"
   ]
  },
  {
   "cell_type": "markdown",
   "id": "fcc855c6",
   "metadata": {},
   "source": [
    "Basic Visulization using Pandas Library"
   ]
  },
  {
   "cell_type": "code",
   "execution_count": 6,
   "id": "41d1cff2",
   "metadata": {},
   "outputs": [
    {
     "data": {
      "text/plain": [
       "<AxesSubplot:>"
      ]
     },
     "execution_count": 6,
     "metadata": {},
     "output_type": "execute_result"
    },
    {
     "data": {
      "image/png": "[encoded data removed]",
      "text/plain": [
       "<Figure size 432x288 with 1 Axes>"
      ]
     },
     "metadata": {
      "needs_background": "light"
     },
     "output_type": "display_data"
    }
   ],
   "source": [
    "df.plot()"
   ]
  },
  {
   "cell_type": "markdown",
   "id": "b2072964",
   "metadata": {},
   "source": [
    "The entire dataframe can be called with plot().\n",
    "\n",
    "Plot() recogizes the numerical features in a dataset and plots it with a common scale"
   ]
  },
  {
   "cell_type": "markdown",
   "id": "01ca0536",
   "metadata": {},
   "source": [
    "Single feature can also be called using plot()"
   ]
  },
  {
   "cell_type": "code",
   "execution_count": 9,
   "id": "126247a3",
   "metadata": {},
   "outputs": [
    {
     "data": {
      "text/plain": [
       "<AxesSubplot:>"
      ]
     },
     "execution_count": 9,
     "metadata": {},
     "output_type": "execute_result"
    },
    {
     "data": {
      "image/png": "[encoded data removed]",
      "text/plain": [
       "<Figure size 432x288 with 1 Axes>"
      ]
     },
     "metadata": {
      "needs_background": "light"
     },
     "output_type": "display_data"
    }
   ],
   "source": [
    "df.new_cases.plot()"
   ]
  },
  {
   "cell_type": "markdown",
   "id": "4ee21706",
   "metadata": {},
   "source": [
    "Plot() plots a line graph"
   ]
  },
  {
   "cell_type": "markdown",
   "id": "64ff6ffc",
   "metadata": {},
   "source": [
    "THe plot shows the overall trend. But its difficult to tell when the peak happened."
   ]
  },
  {
   "cell_type": "markdown",
   "id": "9e97424d",
   "metadata": {},
   "source": [
    "For that we should convert the date column as index"
   ]
  },
  {
   "cell_type": "code",
   "execution_count": 10,
   "id": "3c7f3f48",
   "metadata": {},
   "outputs": [],
   "source": [
    "df.set_index('date',inplace =True)"
   ]
  },
  {
   "cell_type": "code",
   "execution_count": 11,
   "id": "cb01665c",
   "metadata": {},
   "outputs": [
    {
     "data": {
      "text/html": [
       "<div>\n",
       "<style scoped>\n",
       "    .dataframe tbody tr th:only-of-type {\n",
       "        vertical-align: middle;\n",
       "    }\n",
       "\n",
       "    .dataframe tbody tr th {\n",
       "        vertical-align: top;\n",
       "    }\n",
       "\n",
       "    .dataframe thead th {\n",
       "        text-align: right;\n",
       "    }\n",
       "</style>\n",
       "<table border=\"1\" class=\"dataframe\">\n",
       "  <thead>\n",
       "    <tr style=\"text-align: right;\">\n",
       "      <th></th>\n",
       "      <th>new_cases</th>\n",
       "      <th>new_deaths</th>\n",
       "      <th>new_tests</th>\n",
       "    </tr>\n",
       "    <tr>\n",
       "      <th>date</th>\n",
       "      <th></th>\n",
       "      <th></th>\n",
       "      <th></th>\n",
       "    </tr>\n",
       "  </thead>\n",
       "  <tbody>\n",
       "    <tr>\n",
       "      <th>2019-12-31</th>\n",
       "      <td>0.0</td>\n",
       "      <td>0.0</td>\n",
       "      <td>NaN</td>\n",
       "    </tr>\n",
       "    <tr>\n",
       "      <th>2020-01-01</th>\n",
       "      <td>0.0</td>\n",
       "      <td>0.0</td>\n",
       "      <td>NaN</td>\n",
       "    </tr>\n",
       "    <tr>\n",
       "      <th>2020-01-02</th>\n",
       "      <td>0.0</td>\n",
       "      <td>0.0</td>\n",
       "      <td>NaN</td>\n",
       "    </tr>\n",
       "    <tr>\n",
       "      <th>2020-01-03</th>\n",
       "      <td>0.0</td>\n",
       "      <td>0.0</td>\n",
       "      <td>NaN</td>\n",
       "    </tr>\n",
       "    <tr>\n",
       "      <th>2020-01-04</th>\n",
       "      <td>0.0</td>\n",
       "      <td>0.0</td>\n",
       "      <td>NaN</td>\n",
       "    </tr>\n",
       "    <tr>\n",
       "      <th>...</th>\n",
       "      <td>...</td>\n",
       "      <td>...</td>\n",
       "      <td>...</td>\n",
       "    </tr>\n",
       "    <tr>\n",
       "      <th>2020-08-30</th>\n",
       "      <td>1444.0</td>\n",
       "      <td>1.0</td>\n",
       "      <td>53541.0</td>\n",
       "    </tr>\n",
       "    <tr>\n",
       "      <th>2020-08-31</th>\n",
       "      <td>1365.0</td>\n",
       "      <td>4.0</td>\n",
       "      <td>42583.0</td>\n",
       "    </tr>\n",
       "    <tr>\n",
       "      <th>2020-09-01</th>\n",
       "      <td>996.0</td>\n",
       "      <td>6.0</td>\n",
       "      <td>54395.0</td>\n",
       "    </tr>\n",
       "    <tr>\n",
       "      <th>2020-09-02</th>\n",
       "      <td>975.0</td>\n",
       "      <td>8.0</td>\n",
       "      <td>NaN</td>\n",
       "    </tr>\n",
       "    <tr>\n",
       "      <th>2020-09-03</th>\n",
       "      <td>1326.0</td>\n",
       "      <td>6.0</td>\n",
       "      <td>NaN</td>\n",
       "    </tr>\n",
       "  </tbody>\n",
       "</table>\n",
       "<p>248 rows × 3 columns</p>\n",
       "</div>"
      ],
      "text/plain": [
       "            new_cases  new_deaths  new_tests\n",
       "date                                        \n",
       "2019-12-31        0.0         0.0        NaN\n",
       "2020-01-01        0.0         0.0        NaN\n",
       "2020-01-02        0.0         0.0        NaN\n",
       "2020-01-03        0.0         0.0        NaN\n",
       "2020-01-04        0.0         0.0        NaN\n",
       "...               ...         ...        ...\n",
       "2020-08-30     1444.0         1.0    53541.0\n",
       "2020-08-31     1365.0         4.0    42583.0\n",
       "2020-09-01      996.0         6.0    54395.0\n",
       "2020-09-02      975.0         8.0        NaN\n",
       "2020-09-03     1326.0         6.0        NaN\n",
       "\n",
       "[248 rows x 3 columns]"
      ]
     },
     "execution_count": 11,
     "metadata": {},
     "output_type": "execute_result"
    }
   ],
   "source": [
    "df"
   ]
  },
  {
   "cell_type": "code",
   "execution_count": 12,
   "id": "43b72232",
   "metadata": {},
   "outputs": [
    {
     "data": {
      "text/plain": [
       "<AxesSubplot:xlabel='date'>"
      ]
     },
     "execution_count": 12,
     "metadata": {},
     "output_type": "execute_result"
    },
    {
     "data": {
      "image/png": "[encoded data removed]",
      "text/plain": [
       "<Figure size 432x288 with 1 Axes>"
      ]
     },
     "metadata": {
      "needs_background": "light"
     },
     "output_type": "display_data"
    }
   ],
   "source": [
    "df.new_cases.plot()"
   ]
  },
  {
   "cell_type": "markdown",
   "id": "6a495fe9",
   "metadata": {},
   "source": [
    "The human brain can process the above image precisely.\n",
    "\n",
    "It can be seen that the peak occured during Feb-Mar 2020"
   ]
  },
  {
   "cell_type": "markdown",
   "id": "841e16d8",
   "metadata": {},
   "source": [
    "We can also combine more than one feature."
   ]
  },
  {
   "cell_type": "code",
   "execution_count": 15,
   "id": "2b8c8153",
   "metadata": {},
   "outputs": [
    {
     "data": {
      "text/plain": [
       "<AxesSubplot:xlabel='date'>"
      ]
     },
     "execution_count": 15,
     "metadata": {},
     "output_type": "execute_result"
    },
    {
     "data": {
      "image/png": "[encoded data removed]",
      "text/plain": [
       "<Figure size 432x288 with 1 Axes>"
      ]
     },
     "metadata": {
      "needs_background": "light"
     },
     "output_type": "display_data"
    }
   ],
   "source": [
    "df.new_cases.plot()\n",
    "df.new_deaths.plot()"
   ]
  },
  {
   "cell_type": "code",
   "execution_count": 20,
   "id": "0078639a",
   "metadata": {},
   "outputs": [],
   "source": [
    "df['total_cases'] = df.new_cases.cumsum()"
   ]
  },
  {
   "cell_type": "code",
   "execution_count": 21,
   "id": "8155486b",
   "metadata": {},
   "outputs": [],
   "source": [
    "df['total_deaths'] = df.new_deaths.cumsum()"
   ]
  },
  {
   "cell_type": "code",
   "execution_count": 22,
   "id": "f12f6b63",
   "metadata": {},
   "outputs": [
    {
     "data": {
      "text/html": [
       "<div>\n",
       "<style scoped>\n",
       "    .dataframe tbody tr th:only-of-type {\n",
       "        vertical-align: middle;\n",
       "    }\n",
       "\n",
       "    .dataframe tbody tr th {\n",
       "        vertical-align: top;\n",
       "    }\n",
       "\n",
       "    .dataframe thead th {\n",
       "        text-align: right;\n",
       "    }\n",
       "</style>\n",
       "<table border=\"1\" class=\"dataframe\">\n",
       "  <thead>\n",
       "    <tr style=\"text-align: right;\">\n",
       "      <th></th>\n",
       "      <th>new_cases</th>\n",
       "      <th>new_deaths</th>\n",
       "      <th>new_tests</th>\n",
       "      <th>total_cases</th>\n",
       "      <th>total_deaths</th>\n",
       "    </tr>\n",
       "    <tr>\n",
       "      <th>date</th>\n",
       "      <th></th>\n",
       "      <th></th>\n",
       "      <th></th>\n",
       "      <th></th>\n",
       "      <th></th>\n",
       "    </tr>\n",
       "  </thead>\n",
       "  <tbody>\n",
       "    <tr>\n",
       "      <th>2019-12-31</th>\n",
       "      <td>0.0</td>\n",
       "      <td>0.0</td>\n",
       "      <td>NaN</td>\n",
       "      <td>0.0</td>\n",
       "      <td>0.0</td>\n",
       "    </tr>\n",
       "    <tr>\n",
       "      <th>2020-01-01</th>\n",
       "      <td>0.0</td>\n",
       "      <td>0.0</td>\n",
       "      <td>NaN</td>\n",
       "      <td>0.0</td>\n",
       "      <td>0.0</td>\n",
       "    </tr>\n",
       "    <tr>\n",
       "      <th>2020-01-02</th>\n",
       "      <td>0.0</td>\n",
       "      <td>0.0</td>\n",
       "      <td>NaN</td>\n",
       "      <td>0.0</td>\n",
       "      <td>0.0</td>\n",
       "    </tr>\n",
       "    <tr>\n",
       "      <th>2020-01-03</th>\n",
       "      <td>0.0</td>\n",
       "      <td>0.0</td>\n",
       "      <td>NaN</td>\n",
       "      <td>0.0</td>\n",
       "      <td>0.0</td>\n",
       "    </tr>\n",
       "    <tr>\n",
       "      <th>2020-01-04</th>\n",
       "      <td>0.0</td>\n",
       "      <td>0.0</td>\n",
       "      <td>NaN</td>\n",
       "      <td>0.0</td>\n",
       "      <td>0.0</td>\n",
       "    </tr>\n",
       "    <tr>\n",
       "      <th>...</th>\n",
       "      <td>...</td>\n",
       "      <td>...</td>\n",
       "      <td>...</td>\n",
       "      <td>...</td>\n",
       "      <td>...</td>\n",
       "    </tr>\n",
       "    <tr>\n",
       "      <th>2020-08-30</th>\n",
       "      <td>1444.0</td>\n",
       "      <td>1.0</td>\n",
       "      <td>53541.0</td>\n",
       "      <td>266853.0</td>\n",
       "      <td>35473.0</td>\n",
       "    </tr>\n",
       "    <tr>\n",
       "      <th>2020-08-31</th>\n",
       "      <td>1365.0</td>\n",
       "      <td>4.0</td>\n",
       "      <td>42583.0</td>\n",
       "      <td>268218.0</td>\n",
       "      <td>35477.0</td>\n",
       "    </tr>\n",
       "    <tr>\n",
       "      <th>2020-09-01</th>\n",
       "      <td>996.0</td>\n",
       "      <td>6.0</td>\n",
       "      <td>54395.0</td>\n",
       "      <td>269214.0</td>\n",
       "      <td>35483.0</td>\n",
       "    </tr>\n",
       "    <tr>\n",
       "      <th>2020-09-02</th>\n",
       "      <td>975.0</td>\n",
       "      <td>8.0</td>\n",
       "      <td>NaN</td>\n",
       "      <td>270189.0</td>\n",
       "      <td>35491.0</td>\n",
       "    </tr>\n",
       "    <tr>\n",
       "      <th>2020-09-03</th>\n",
       "      <td>1326.0</td>\n",
       "      <td>6.0</td>\n",
       "      <td>NaN</td>\n",
       "      <td>271515.0</td>\n",
       "      <td>35497.0</td>\n",
       "    </tr>\n",
       "  </tbody>\n",
       "</table>\n",
       "<p>248 rows × 5 columns</p>\n",
       "</div>"
      ],
      "text/plain": [
       "            new_cases  new_deaths  new_tests  total_cases  total_deaths\n",
       "date                                                                   \n",
       "2019-12-31        0.0         0.0        NaN          0.0           0.0\n",
       "2020-01-01        0.0         0.0        NaN          0.0           0.0\n",
       "2020-01-02        0.0         0.0        NaN          0.0           0.0\n",
       "2020-01-03        0.0         0.0        NaN          0.0           0.0\n",
       "2020-01-04        0.0         0.0        NaN          0.0           0.0\n",
       "...               ...         ...        ...          ...           ...\n",
       "2020-08-30     1444.0         1.0    53541.0     266853.0       35473.0\n",
       "2020-08-31     1365.0         4.0    42583.0     268218.0       35477.0\n",
       "2020-09-01      996.0         6.0    54395.0     269214.0       35483.0\n",
       "2020-09-02      975.0         8.0        NaN     270189.0       35491.0\n",
       "2020-09-03     1326.0         6.0        NaN     271515.0       35497.0\n",
       "\n",
       "[248 rows x 5 columns]"
      ]
     },
     "execution_count": 22,
     "metadata": {},
     "output_type": "execute_result"
    }
   ],
   "source": [
    "df"
   ]
  },
  {
   "cell_type": "code",
   "execution_count": 25,
   "id": "893f9f0c",
   "metadata": {},
   "outputs": [
    {
     "data": {
      "text/plain": [
       "<AxesSubplot:xlabel='date'>"
      ]
     },
     "execution_count": 25,
     "metadata": {},
     "output_type": "execute_result"
    },
    {
     "data": {
      "image/png": "[encoded data removed]",
      "text/plain": [
       "<Figure size 432x288 with 1 Axes>"
      ]
     },
     "metadata": {
      "needs_background": "light"
     },
     "output_type": "display_data"
    }
   ],
   "source": [
    "df.total_cases.plot()\n",
    "df.total_deaths.plot()"
   ]
  },
  {
   "cell_type": "markdown",
   "id": "7df03389",
   "metadata": {},
   "source": [
    "Creating a variable that is used to plot"
   ]
  },
  {
   "cell_type": "code",
   "execution_count": 23,
   "id": "ccdd84d8",
   "metadata": {},
   "outputs": [],
   "source": [
    "death_rate = df.total_deaths / df.total_cases"
   ]
  },
  {
   "cell_type": "code",
   "execution_count": 24,
   "id": "0840505e",
   "metadata": {},
   "outputs": [
    {
     "data": {
      "text/plain": [
       "<AxesSubplot:title={'center':'Death Rate'}, xlabel='date'>"
      ]
     },
     "execution_count": 24,
     "metadata": {},
     "output_type": "execute_result"
    },
    {
     "data": {
      "image/png": "[encoded data removed]",
      "text/plain": [
       "<Figure size 432x288 with 1 Axes>"
      ]
     },
     "metadata": {
      "needs_background": "light"
     },
     "output_type": "display_data"
    }
   ],
   "source": [
    "death_rate.plot(title='Death Rate')"
   ]
  },
  {
   "cell_type": "markdown",
   "id": "0a64d431",
   "metadata": {},
   "source": [
    "The process includes:\n",
    "\n",
    "*Creating a new feature that is a cumulative sum\n",
    "\n",
    "*Create a variable that stores a mathematical operation between the two new feature\n",
    "\n",
    "*Plotting the variable with a title"
   ]
  },
  {
   "cell_type": "markdown",
   "id": "cd5594cb",
   "metadata": {},
   "source": [
    "Plotting month wise data"
   ]
  },
  {
   "cell_type": "code",
   "execution_count": 31,
   "id": "090bb071",
   "metadata": {},
   "outputs": [],
   "source": [
    "df.reset_index(inplace=True)"
   ]
  },
  {
   "cell_type": "code",
   "execution_count": 32,
   "id": "c365dfeb",
   "metadata": {},
   "outputs": [
    {
     "data": {
      "text/html": [
       "<div>\n",
       "<style scoped>\n",
       "    .dataframe tbody tr th:only-of-type {\n",
       "        vertical-align: middle;\n",
       "    }\n",
       "\n",
       "    .dataframe tbody tr th {\n",
       "        vertical-align: top;\n",
       "    }\n",
       "\n",
       "    .dataframe thead th {\n",
       "        text-align: right;\n",
       "    }\n",
       "</style>\n",
       "<table border=\"1\" class=\"dataframe\">\n",
       "  <thead>\n",
       "    <tr style=\"text-align: right;\">\n",
       "      <th></th>\n",
       "      <th>date</th>\n",
       "      <th>new_cases</th>\n",
       "      <th>new_deaths</th>\n",
       "      <th>new_tests</th>\n",
       "      <th>total_cases</th>\n",
       "      <th>total_deaths</th>\n",
       "    </tr>\n",
       "  </thead>\n",
       "  <tbody>\n",
       "    <tr>\n",
       "      <th>0</th>\n",
       "      <td>2019-12-31</td>\n",
       "      <td>0.0</td>\n",
       "      <td>0.0</td>\n",
       "      <td>NaN</td>\n",
       "      <td>0.0</td>\n",
       "      <td>0.0</td>\n",
       "    </tr>\n",
       "    <tr>\n",
       "      <th>1</th>\n",
       "      <td>2020-01-01</td>\n",
       "      <td>0.0</td>\n",
       "      <td>0.0</td>\n",
       "      <td>NaN</td>\n",
       "      <td>0.0</td>\n",
       "      <td>0.0</td>\n",
       "    </tr>\n",
       "    <tr>\n",
       "      <th>2</th>\n",
       "      <td>2020-01-02</td>\n",
       "      <td>0.0</td>\n",
       "      <td>0.0</td>\n",
       "      <td>NaN</td>\n",
       "      <td>0.0</td>\n",
       "      <td>0.0</td>\n",
       "    </tr>\n",
       "    <tr>\n",
       "      <th>3</th>\n",
       "      <td>2020-01-03</td>\n",
       "      <td>0.0</td>\n",
       "      <td>0.0</td>\n",
       "      <td>NaN</td>\n",
       "      <td>0.0</td>\n",
       "      <td>0.0</td>\n",
       "    </tr>\n",
       "    <tr>\n",
       "      <th>4</th>\n",
       "      <td>2020-01-04</td>\n",
       "      <td>0.0</td>\n",
       "      <td>0.0</td>\n",
       "      <td>NaN</td>\n",
       "      <td>0.0</td>\n",
       "      <td>0.0</td>\n",
       "    </tr>\n",
       "    <tr>\n",
       "      <th>...</th>\n",
       "      <td>...</td>\n",
       "      <td>...</td>\n",
       "      <td>...</td>\n",
       "      <td>...</td>\n",
       "      <td>...</td>\n",
       "      <td>...</td>\n",
       "    </tr>\n",
       "    <tr>\n",
       "      <th>243</th>\n",
       "      <td>2020-08-30</td>\n",
       "      <td>1444.0</td>\n",
       "      <td>1.0</td>\n",
       "      <td>53541.0</td>\n",
       "      <td>266853.0</td>\n",
       "      <td>35473.0</td>\n",
       "    </tr>\n",
       "    <tr>\n",
       "      <th>244</th>\n",
       "      <td>2020-08-31</td>\n",
       "      <td>1365.0</td>\n",
       "      <td>4.0</td>\n",
       "      <td>42583.0</td>\n",
       "      <td>268218.0</td>\n",
       "      <td>35477.0</td>\n",
       "    </tr>\n",
       "    <tr>\n",
       "      <th>245</th>\n",
       "      <td>2020-09-01</td>\n",
       "      <td>996.0</td>\n",
       "      <td>6.0</td>\n",
       "      <td>54395.0</td>\n",
       "      <td>269214.0</td>\n",
       "      <td>35483.0</td>\n",
       "    </tr>\n",
       "    <tr>\n",
       "      <th>246</th>\n",
       "      <td>2020-09-02</td>\n",
       "      <td>975.0</td>\n",
       "      <td>8.0</td>\n",
       "      <td>NaN</td>\n",
       "      <td>270189.0</td>\n",
       "      <td>35491.0</td>\n",
       "    </tr>\n",
       "    <tr>\n",
       "      <th>247</th>\n",
       "      <td>2020-09-03</td>\n",
       "      <td>1326.0</td>\n",
       "      <td>6.0</td>\n",
       "      <td>NaN</td>\n",
       "      <td>271515.0</td>\n",
       "      <td>35497.0</td>\n",
       "    </tr>\n",
       "  </tbody>\n",
       "</table>\n",
       "<p>248 rows × 6 columns</p>\n",
       "</div>"
      ],
      "text/plain": [
       "           date  new_cases  new_deaths  new_tests  total_cases  total_deaths\n",
       "0    2019-12-31        0.0         0.0        NaN          0.0           0.0\n",
       "1    2020-01-01        0.0         0.0        NaN          0.0           0.0\n",
       "2    2020-01-02        0.0         0.0        NaN          0.0           0.0\n",
       "3    2020-01-03        0.0         0.0        NaN          0.0           0.0\n",
       "4    2020-01-04        0.0         0.0        NaN          0.0           0.0\n",
       "..          ...        ...         ...        ...          ...           ...\n",
       "243  2020-08-30     1444.0         1.0    53541.0     266853.0       35473.0\n",
       "244  2020-08-31     1365.0         4.0    42583.0     268218.0       35477.0\n",
       "245  2020-09-01      996.0         6.0    54395.0     269214.0       35483.0\n",
       "246  2020-09-02      975.0         8.0        NaN     270189.0       35491.0\n",
       "247  2020-09-03     1326.0         6.0        NaN     271515.0       35497.0\n",
       "\n",
       "[248 rows x 6 columns]"
      ]
     },
     "execution_count": 32,
     "metadata": {},
     "output_type": "execute_result"
    }
   ],
   "source": [
    "df"
   ]
  },
  {
   "cell_type": "code",
   "execution_count": 34,
   "id": "82323dd9",
   "metadata": {},
   "outputs": [
    {
     "ename": "KeyError",
     "evalue": "'Month'",
     "output_type": "error",
     "traceback": [
      "\u001b[1;31m---------------------------------------------------------------------------\u001b[0m",
      "\u001b[1;31mKeyError\u001b[0m                                  Traceback (most recent call last)",
      "\u001b[1;32m<ipython-input-34-b3500363e55b>\u001b[0m in \u001b[0;36m<module>\u001b[1;34m\u001b[0m\n\u001b[1;32m----> 1\u001b[1;33m \u001b[0mdf\u001b[0m\u001b[1;33m.\u001b[0m\u001b[0mgroupby\u001b[0m\u001b[1;33m(\u001b[0m\u001b[1;34m'Month'\u001b[0m\u001b[1;33m)\u001b[0m\u001b[1;33m\u001b[0m\u001b[1;33m\u001b[0m\u001b[0m\n\u001b[0m",
      "\u001b[1;32m~\\anaconda3\\lib\\site-packages\\pandas\\core\\frame.py\u001b[0m in \u001b[0;36mgroupby\u001b[1;34m(self, by, axis, level, as_index, sort, group_keys, squeeze, observed, dropna)\u001b[0m\n\u001b[0;32m   6715\u001b[0m         \u001b[0maxis\u001b[0m \u001b[1;33m=\u001b[0m \u001b[0mself\u001b[0m\u001b[1;33m.\u001b[0m\u001b[0m_get_axis_number\u001b[0m\u001b[1;33m(\u001b[0m\u001b[0maxis\u001b[0m\u001b[1;33m)\u001b[0m\u001b[1;33m\u001b[0m\u001b[1;33m\u001b[0m\u001b[0m\n\u001b[0;32m   6716\u001b[0m \u001b[1;33m\u001b[0m\u001b[0m\n\u001b[1;32m-> 6717\u001b[1;33m         return DataFrameGroupBy(\n\u001b[0m\u001b[0;32m   6718\u001b[0m             \u001b[0mobj\u001b[0m\u001b[1;33m=\u001b[0m\u001b[0mself\u001b[0m\u001b[1;33m,\u001b[0m\u001b[1;33m\u001b[0m\u001b[1;33m\u001b[0m\u001b[0m\n\u001b[0;32m   6719\u001b[0m             \u001b[0mkeys\u001b[0m\u001b[1;33m=\u001b[0m\u001b[0mby\u001b[0m\u001b[1;33m,\u001b[0m\u001b[1;33m\u001b[0m\u001b[1;33m\u001b[0m\u001b[0m\n",
      "\u001b[1;32m~\\anaconda3\\lib\\site-packages\\pandas\\core\\groupby\\groupby.py\u001b[0m in \u001b[0;36m__init__\u001b[1;34m(self, obj, keys, axis, level, grouper, exclusions, selection, as_index, sort, group_keys, squeeze, observed, mutated, dropna)\u001b[0m\n\u001b[0;32m    558\u001b[0m             \u001b[1;32mfrom\u001b[0m \u001b[0mpandas\u001b[0m\u001b[1;33m.\u001b[0m\u001b[0mcore\u001b[0m\u001b[1;33m.\u001b[0m\u001b[0mgroupby\u001b[0m\u001b[1;33m.\u001b[0m\u001b[0mgrouper\u001b[0m \u001b[1;32mimport\u001b[0m \u001b[0mget_grouper\u001b[0m\u001b[1;33m\u001b[0m\u001b[1;33m\u001b[0m\u001b[0m\n\u001b[0;32m    559\u001b[0m \u001b[1;33m\u001b[0m\u001b[0m\n\u001b[1;32m--> 560\u001b[1;33m             grouper, exclusions, obj = get_grouper(\n\u001b[0m\u001b[0;32m    561\u001b[0m                 \u001b[0mobj\u001b[0m\u001b[1;33m,\u001b[0m\u001b[1;33m\u001b[0m\u001b[1;33m\u001b[0m\u001b[0m\n\u001b[0;32m    562\u001b[0m                 \u001b[0mkeys\u001b[0m\u001b[1;33m,\u001b[0m\u001b[1;33m\u001b[0m\u001b[1;33m\u001b[0m\u001b[0m\n",
      "\u001b[1;32m~\\anaconda3\\lib\\site-packages\\pandas\\core\\groupby\\grouper.py\u001b[0m in \u001b[0;36mget_grouper\u001b[1;34m(obj, key, axis, level, sort, observed, mutated, validate, dropna)\u001b[0m\n\u001b[0;32m    809\u001b[0m                 \u001b[0min_axis\u001b[0m\u001b[1;33m,\u001b[0m \u001b[0mname\u001b[0m\u001b[1;33m,\u001b[0m \u001b[0mlevel\u001b[0m\u001b[1;33m,\u001b[0m \u001b[0mgpr\u001b[0m \u001b[1;33m=\u001b[0m \u001b[1;32mFalse\u001b[0m\u001b[1;33m,\u001b[0m \u001b[1;32mNone\u001b[0m\u001b[1;33m,\u001b[0m \u001b[0mgpr\u001b[0m\u001b[1;33m,\u001b[0m \u001b[1;32mNone\u001b[0m\u001b[1;33m\u001b[0m\u001b[1;33m\u001b[0m\u001b[0m\n\u001b[0;32m    810\u001b[0m             \u001b[1;32melse\u001b[0m\u001b[1;33m:\u001b[0m\u001b[1;33m\u001b[0m\u001b[1;33m\u001b[0m\u001b[0m\n\u001b[1;32m--> 811\u001b[1;33m                 \u001b[1;32mraise\u001b[0m \u001b[0mKeyError\u001b[0m\u001b[1;33m(\u001b[0m\u001b[0mgpr\u001b[0m\u001b[1;33m)\u001b[0m\u001b[1;33m\u001b[0m\u001b[1;33m\u001b[0m\u001b[0m\n\u001b[0m\u001b[0;32m    812\u001b[0m         \u001b[1;32melif\u001b[0m \u001b[0misinstance\u001b[0m\u001b[1;33m(\u001b[0m\u001b[0mgpr\u001b[0m\u001b[1;33m,\u001b[0m \u001b[0mGrouper\u001b[0m\u001b[1;33m)\u001b[0m \u001b[1;32mand\u001b[0m \u001b[0mgpr\u001b[0m\u001b[1;33m.\u001b[0m\u001b[0mkey\u001b[0m \u001b[1;32mis\u001b[0m \u001b[1;32mnot\u001b[0m \u001b[1;32mNone\u001b[0m\u001b[1;33m:\u001b[0m\u001b[1;33m\u001b[0m\u001b[1;33m\u001b[0m\u001b[0m\n\u001b[0;32m    813\u001b[0m             \u001b[1;31m# Add key to exclusions\u001b[0m\u001b[1;33m\u001b[0m\u001b[1;33m\u001b[0m\u001b[1;33m\u001b[0m\u001b[0m\n",
      "\u001b[1;31mKeyError\u001b[0m: 'Month'"
     ]
    }
   ],
   "source": [
    "df.groupby('Month')"
   ]
  },
  {
   "cell_type": "code",
   "execution_count": 35,
   "id": "c358241f",
   "metadata": {},
   "outputs": [],
   "source": [
    "df['date'] = pd.to_datetime(df.date)"
   ]
  },
  {
   "cell_type": "code",
   "execution_count": 36,
   "id": "c8962e7d",
   "metadata": {},
   "outputs": [
    {
     "data": {
      "text/plain": [
       "0     2019-12-31\n",
       "1     2020-01-01\n",
       "2     2020-01-02\n",
       "3     2020-01-03\n",
       "4     2020-01-04\n",
       "         ...    \n",
       "243   2020-08-30\n",
       "244   2020-08-31\n",
       "245   2020-09-01\n",
       "246   2020-09-02\n",
       "247   2020-09-03\n",
       "Name: date, Length: 248, dtype: datetime64[ns]"
      ]
     },
     "execution_count": 36,
     "metadata": {},
     "output_type": "execute_result"
    }
   ],
   "source": [
    "df.date"
   ]
  },
  {
   "cell_type": "code",
   "execution_count": 38,
   "id": "72f3daf9",
   "metadata": {},
   "outputs": [],
   "source": [
    "df['Month'] = pd.DatetimeIndex(df.date).month"
   ]
  },
  {
   "cell_type": "code",
   "execution_count": 39,
   "id": "2666ec45",
   "metadata": {},
   "outputs": [
    {
     "data": {
      "text/html": [
       "<div>\n",
       "<style scoped>\n",
       "    .dataframe tbody tr th:only-of-type {\n",
       "        vertical-align: middle;\n",
       "    }\n",
       "\n",
       "    .dataframe tbody tr th {\n",
       "        vertical-align: top;\n",
       "    }\n",
       "\n",
       "    .dataframe thead th {\n",
       "        text-align: right;\n",
       "    }\n",
       "</style>\n",
       "<table border=\"1\" class=\"dataframe\">\n",
       "  <thead>\n",
       "    <tr style=\"text-align: right;\">\n",
       "      <th></th>\n",
       "      <th>date</th>\n",
       "      <th>new_cases</th>\n",
       "      <th>new_deaths</th>\n",
       "      <th>new_tests</th>\n",
       "      <th>total_cases</th>\n",
       "      <th>total_deaths</th>\n",
       "      <th>Month</th>\n",
       "    </tr>\n",
       "  </thead>\n",
       "  <tbody>\n",
       "    <tr>\n",
       "      <th>0</th>\n",
       "      <td>2019-12-31</td>\n",
       "      <td>0.0</td>\n",
       "      <td>0.0</td>\n",
       "      <td>NaN</td>\n",
       "      <td>0.0</td>\n",
       "      <td>0.0</td>\n",
       "      <td>12</td>\n",
       "    </tr>\n",
       "    <tr>\n",
       "      <th>1</th>\n",
       "      <td>2020-01-01</td>\n",
       "      <td>0.0</td>\n",
       "      <td>0.0</td>\n",
       "      <td>NaN</td>\n",
       "      <td>0.0</td>\n",
       "      <td>0.0</td>\n",
       "      <td>1</td>\n",
       "    </tr>\n",
       "    <tr>\n",
       "      <th>2</th>\n",
       "      <td>2020-01-02</td>\n",
       "      <td>0.0</td>\n",
       "      <td>0.0</td>\n",
       "      <td>NaN</td>\n",
       "      <td>0.0</td>\n",
       "      <td>0.0</td>\n",
       "      <td>1</td>\n",
       "    </tr>\n",
       "    <tr>\n",
       "      <th>3</th>\n",
       "      <td>2020-01-03</td>\n",
       "      <td>0.0</td>\n",
       "      <td>0.0</td>\n",
       "      <td>NaN</td>\n",
       "      <td>0.0</td>\n",
       "      <td>0.0</td>\n",
       "      <td>1</td>\n",
       "    </tr>\n",
       "    <tr>\n",
       "      <th>4</th>\n",
       "      <td>2020-01-04</td>\n",
       "      <td>0.0</td>\n",
       "      <td>0.0</td>\n",
       "      <td>NaN</td>\n",
       "      <td>0.0</td>\n",
       "      <td>0.0</td>\n",
       "      <td>1</td>\n",
       "    </tr>\n",
       "    <tr>\n",
       "      <th>...</th>\n",
       "      <td>...</td>\n",
       "      <td>...</td>\n",
       "      <td>...</td>\n",
       "      <td>...</td>\n",
       "      <td>...</td>\n",
       "      <td>...</td>\n",
       "      <td>...</td>\n",
       "    </tr>\n",
       "    <tr>\n",
       "      <th>243</th>\n",
       "      <td>2020-08-30</td>\n",
       "      <td>1444.0</td>\n",
       "      <td>1.0</td>\n",
       "      <td>53541.0</td>\n",
       "      <td>266853.0</td>\n",
       "      <td>35473.0</td>\n",
       "      <td>8</td>\n",
       "    </tr>\n",
       "    <tr>\n",
       "      <th>244</th>\n",
       "      <td>2020-08-31</td>\n",
       "      <td>1365.0</td>\n",
       "      <td>4.0</td>\n",
       "      <td>42583.0</td>\n",
       "      <td>268218.0</td>\n",
       "      <td>35477.0</td>\n",
       "      <td>8</td>\n",
       "    </tr>\n",
       "    <tr>\n",
       "      <th>245</th>\n",
       "      <td>2020-09-01</td>\n",
       "      <td>996.0</td>\n",
       "      <td>6.0</td>\n",
       "      <td>54395.0</td>\n",
       "      <td>269214.0</td>\n",
       "      <td>35483.0</td>\n",
       "      <td>9</td>\n",
       "    </tr>\n",
       "    <tr>\n",
       "      <th>246</th>\n",
       "      <td>2020-09-02</td>\n",
       "      <td>975.0</td>\n",
       "      <td>8.0</td>\n",
       "      <td>NaN</td>\n",
       "      <td>270189.0</td>\n",
       "      <td>35491.0</td>\n",
       "      <td>9</td>\n",
       "    </tr>\n",
       "    <tr>\n",
       "      <th>247</th>\n",
       "      <td>2020-09-03</td>\n",
       "      <td>1326.0</td>\n",
       "      <td>6.0</td>\n",
       "      <td>NaN</td>\n",
       "      <td>271515.0</td>\n",
       "      <td>35497.0</td>\n",
       "      <td>9</td>\n",
       "    </tr>\n",
       "  </tbody>\n",
       "</table>\n",
       "<p>248 rows × 7 columns</p>\n",
       "</div>"
      ],
      "text/plain": [
       "          date  new_cases  new_deaths  new_tests  total_cases  total_deaths  \\\n",
       "0   2019-12-31        0.0         0.0        NaN          0.0           0.0   \n",
       "1   2020-01-01        0.0         0.0        NaN          0.0           0.0   \n",
       "2   2020-01-02        0.0         0.0        NaN          0.0           0.0   \n",
       "3   2020-01-03        0.0         0.0        NaN          0.0           0.0   \n",
       "4   2020-01-04        0.0         0.0        NaN          0.0           0.0   \n",
       "..         ...        ...         ...        ...          ...           ...   \n",
       "243 2020-08-30     1444.0         1.0    53541.0     266853.0       35473.0   \n",
       "244 2020-08-31     1365.0         4.0    42583.0     268218.0       35477.0   \n",
       "245 2020-09-01      996.0         6.0    54395.0     269214.0       35483.0   \n",
       "246 2020-09-02      975.0         8.0        NaN     270189.0       35491.0   \n",
       "247 2020-09-03     1326.0         6.0        NaN     271515.0       35497.0   \n",
       "\n",
       "     Month  \n",
       "0       12  \n",
       "1        1  \n",
       "2        1  \n",
       "3        1  \n",
       "4        1  \n",
       "..     ...  \n",
       "243      8  \n",
       "244      8  \n",
       "245      9  \n",
       "246      9  \n",
       "247      9  \n",
       "\n",
       "[248 rows x 7 columns]"
      ]
     },
     "execution_count": 39,
     "metadata": {},
     "output_type": "execute_result"
    }
   ],
   "source": [
    "df"
   ]
  },
  {
   "cell_type": "code",
   "execution_count": 40,
   "id": "bad34b35",
   "metadata": {},
   "outputs": [
    {
     "data": {
      "text/plain": [
       "<pandas.core.groupby.generic.DataFrameGroupBy object at 0x000002A30180CA30>"
      ]
     },
     "execution_count": 40,
     "metadata": {},
     "output_type": "execute_result"
    }
   ],
   "source": [
    "df.groupby('Month')"
   ]
  },
  {
   "cell_type": "code",
   "execution_count": 41,
   "id": "5a8541ff",
   "metadata": {},
   "outputs": [],
   "source": [
    "df_month = df.groupby('Month')"
   ]
  },
  {
   "cell_type": "code",
   "execution_count": 42,
   "id": "bd27c8b0",
   "metadata": {},
   "outputs": [
    {
     "data": {
      "text/plain": [
       "<pandas.core.groupby.generic.SeriesGroupBy object at 0x000002A30180C670>"
      ]
     },
     "execution_count": 42,
     "metadata": {},
     "output_type": "execute_result"
    }
   ],
   "source": [
    "df_month['new_cases']"
   ]
  },
  {
   "cell_type": "code",
   "execution_count": 43,
   "id": "ef897cae",
   "metadata": {},
   "outputs": [
    {
     "data": {
      "text/plain": [
       "Month\n",
       "1          3.0\n",
       "2        885.0\n",
       "3     100851.0\n",
       "4     101852.0\n",
       "5      29073.0\n",
       "6       7772.0\n",
       "7       6722.0\n",
       "8      21060.0\n",
       "9       3297.0\n",
       "12         0.0\n",
       "Name: new_cases, dtype: float64"
      ]
     },
     "execution_count": 43,
     "metadata": {},
     "output_type": "execute_result"
    }
   ],
   "source": [
    "df_month['new_cases'].sum()"
   ]
  },
  {
   "cell_type": "code",
   "execution_count": 44,
   "id": "0549aa1a",
   "metadata": {},
   "outputs": [],
   "source": [
    "df_months = df.groupby('Month')"
   ]
  },
  {
   "cell_type": "code",
   "execution_count": 46,
   "id": "e397ed6e",
   "metadata": {},
   "outputs": [
    {
     "data": {
      "text/plain": [
       "<pandas.core.groupby.generic.DataFrameGroupBy object at 0x000002A30181E730>"
      ]
     },
     "execution_count": 46,
     "metadata": {},
     "output_type": "execute_result"
    }
   ],
   "source": [
    "df_months[['new_cases','new_deaths','new_tests']]"
   ]
  },
  {
   "cell_type": "code",
   "execution_count": 47,
   "id": "b58200e1",
   "metadata": {},
   "outputs": [
    {
     "data": {
      "text/html": [
       "<div>\n",
       "<style scoped>\n",
       "    .dataframe tbody tr th:only-of-type {\n",
       "        vertical-align: middle;\n",
       "    }\n",
       "\n",
       "    .dataframe tbody tr th {\n",
       "        vertical-align: top;\n",
       "    }\n",
       "\n",
       "    .dataframe thead th {\n",
       "        text-align: right;\n",
       "    }\n",
       "</style>\n",
       "<table border=\"1\" class=\"dataframe\">\n",
       "  <thead>\n",
       "    <tr style=\"text-align: right;\">\n",
       "      <th></th>\n",
       "      <th>new_cases</th>\n",
       "      <th>new_deaths</th>\n",
       "      <th>new_tests</th>\n",
       "    </tr>\n",
       "    <tr>\n",
       "      <th>Month</th>\n",
       "      <th></th>\n",
       "      <th></th>\n",
       "      <th></th>\n",
       "    </tr>\n",
       "  </thead>\n",
       "  <tbody>\n",
       "    <tr>\n",
       "      <th>1</th>\n",
       "      <td>3.0</td>\n",
       "      <td>0.0</td>\n",
       "      <td>0.0</td>\n",
       "    </tr>\n",
       "    <tr>\n",
       "      <th>2</th>\n",
       "      <td>885.0</td>\n",
       "      <td>21.0</td>\n",
       "      <td>0.0</td>\n",
       "    </tr>\n",
       "    <tr>\n",
       "      <th>3</th>\n",
       "      <td>100851.0</td>\n",
       "      <td>11570.0</td>\n",
       "      <td>0.0</td>\n",
       "    </tr>\n",
       "    <tr>\n",
       "      <th>4</th>\n",
       "      <td>101852.0</td>\n",
       "      <td>16091.0</td>\n",
       "      <td>419591.0</td>\n",
       "    </tr>\n",
       "    <tr>\n",
       "      <th>5</th>\n",
       "      <td>29073.0</td>\n",
       "      <td>5658.0</td>\n",
       "      <td>1078720.0</td>\n",
       "    </tr>\n",
       "    <tr>\n",
       "      <th>6</th>\n",
       "      <td>7772.0</td>\n",
       "      <td>1404.0</td>\n",
       "      <td>830354.0</td>\n",
       "    </tr>\n",
       "    <tr>\n",
       "      <th>7</th>\n",
       "      <td>6722.0</td>\n",
       "      <td>388.0</td>\n",
       "      <td>797692.0</td>\n",
       "    </tr>\n",
       "    <tr>\n",
       "      <th>8</th>\n",
       "      <td>21060.0</td>\n",
       "      <td>345.0</td>\n",
       "      <td>1098704.0</td>\n",
       "    </tr>\n",
       "    <tr>\n",
       "      <th>9</th>\n",
       "      <td>3297.0</td>\n",
       "      <td>20.0</td>\n",
       "      <td>54395.0</td>\n",
       "    </tr>\n",
       "    <tr>\n",
       "      <th>12</th>\n",
       "      <td>0.0</td>\n",
       "      <td>0.0</td>\n",
       "      <td>0.0</td>\n",
       "    </tr>\n",
       "  </tbody>\n",
       "</table>\n",
       "</div>"
      ],
      "text/plain": [
       "       new_cases  new_deaths  new_tests\n",
       "Month                                  \n",
       "1            3.0         0.0        0.0\n",
       "2          885.0        21.0        0.0\n",
       "3       100851.0     11570.0        0.0\n",
       "4       101852.0     16091.0   419591.0\n",
       "5        29073.0      5658.0  1078720.0\n",
       "6         7772.0      1404.0   830354.0\n",
       "7         6722.0       388.0   797692.0\n",
       "8        21060.0       345.0  1098704.0\n",
       "9         3297.0        20.0    54395.0\n",
       "12           0.0         0.0        0.0"
      ]
     },
     "execution_count": 47,
     "metadata": {},
     "output_type": "execute_result"
    }
   ],
   "source": [
    "df_months[['new_cases','new_deaths','new_tests']].sum()"
   ]
  },
  {
   "cell_type": "code",
   "execution_count": 50,
   "id": "014f30af",
   "metadata": {},
   "outputs": [],
   "source": [
    "df_months = df.groupby('Month')[['new_cases','new_deaths','new_tests']].sum()"
   ]
  },
  {
   "cell_type": "code",
   "execution_count": 51,
   "id": "6b3f7924",
   "metadata": {},
   "outputs": [
    {
     "data": {
      "text/plain": [
       "<AxesSubplot:xlabel='Month'>"
      ]
     },
     "execution_count": 51,
     "metadata": {},
     "output_type": "execute_result"
    },
    {
     "data": {
      "image/png": "[encoded data removed]",
      "text/plain": [
       "<Figure size 432x288 with 1 Axes>"
      ]
     },
     "metadata": {
      "needs_background": "light"
     },
     "output_type": "display_data"
    }
   ],
   "source": [
    "df_months.new_cases.plot(kind='bar')"
   ]
  },
  {
   "cell_type": "markdown",
   "id": "4f3e4511",
   "metadata": {},
   "source": [
    "# Data Visualization using Matplotlib and Seaborn"
   ]
  },
  {
   "cell_type": "markdown",
   "id": "a8a8c9a2",
   "metadata": {},
   "source": [
    "To being, lets import libraries from matplotlib.pyplot for basic plots like line and bar charts. \n",
    "\n",
    "The Seaborn Library will be used for more advanced plots and it is imported using alias sns"
   ]
  },
  {
   "cell_type": "code",
   "execution_count": 52,
   "id": "9284699f",
   "metadata": {},
   "outputs": [],
   "source": [
    "import matplotlib.pyplot as plt"
   ]
  },
  {
   "cell_type": "code",
   "execution_count": 53,
   "id": "73b52401",
   "metadata": {},
   "outputs": [],
   "source": [
    "import seaborn as sns"
   ]
  },
  {
   "cell_type": "code",
   "execution_count": 54,
   "id": "50d97008",
   "metadata": {},
   "outputs": [],
   "source": [
    "%matplotlib inline"
   ]
  },
  {
   "cell_type": "markdown",
   "id": "d3a1e282",
   "metadata": {},
   "source": [
    "The above code inline is written so as to show the outputs in the jupyter notebook itself.\n",
    "\n",
    "Orelse the outputs will be shown in popup windows"
   ]
  },
  {
   "cell_type": "markdown",
   "id": "f5d0c2bd",
   "metadata": {},
   "source": [
    " lets create a python list, showing the yield of apples over 6 years"
   ]
  },
  {
   "cell_type": "code",
   "execution_count": 55,
   "id": "03d4e807",
   "metadata": {},
   "outputs": [],
   "source": [
    "yield_apples = [340,230,600,590,650,720]"
   ]
  },
  {
   "cell_type": "code",
   "execution_count": 57,
   "id": "c42a2ebc",
   "metadata": {},
   "outputs": [
    {
     "data": {
      "image/png": "[encoded data removed]",
      "text/plain": [
       "<Figure size 432x288 with 1 Axes>"
      ]
     },
     "metadata": {
      "needs_background": "light"
     },
     "output_type": "display_data"
    }
   ],
   "source": [
    "plt.plot(yield_apples);"
   ]
  },
  {
   "cell_type": "markdown",
   "id": "7cb390df",
   "metadata": {},
   "source": [
    "The X axis is basically the index ofthe lists.\n",
    "\n",
    "To avoid this, we can create a new list that contains the years and then map this with the yield"
   ]
  },
  {
   "cell_type": "code",
   "execution_count": 59,
   "id": "670d831c",
   "metadata": {},
   "outputs": [],
   "source": [
    "year = [2015,2016,2017,2018,2019,2020]"
   ]
  },
  {
   "cell_type": "code",
   "execution_count": 61,
   "id": "a5c8e500",
   "metadata": {},
   "outputs": [
    {
     "data": {
      "image/png": "[encoded data removed]",
      "text/plain": [
       "<Figure size 432x288 with 1 Axes>"
      ]
     },
     "metadata": {
      "needs_background": "light"
     },
     "output_type": "display_data"
    }
   ],
   "source": [
    "plt.plot(year,yield_apples);"
   ]
  },
  {
   "cell_type": "markdown",
   "id": "637a33f9",
   "metadata": {},
   "source": [
    "The plt.plot() takes in two arguments, The first being x axis and other yaxis"
   ]
  },
  {
   "cell_type": "markdown",
   "id": "3c4484d1",
   "metadata": {},
   "source": [
    "Axis Lables using plt.xlabel and plt.ylabel functions"
   ]
  },
  {
   "cell_type": "code",
   "execution_count": 64,
   "id": "f1d37a45",
   "metadata": {},
   "outputs": [
    {
     "data": {
      "image/png": "[encoded data removed]",
      "text/plain": [
       "<Figure size 432x288 with 1 Axes>"
      ]
     },
     "metadata": {
      "needs_background": "light"
     },
     "output_type": "display_data"
    }
   ],
   "source": [
    "plt.plot(year,yield_apples)\n",
    "plt.xlabel('Year')\n",
    "plt.ylabel('Yield in tonnes');"
   ]
  },
  {
   "cell_type": "markdown",
   "id": "54ccbb5a",
   "metadata": {},
   "source": [
    "Plotting Multiple Lines :)"
   ]
  },
  {
   "cell_type": "code",
   "execution_count": 65,
   "id": "c1762dd0",
   "metadata": {},
   "outputs": [],
   "source": [
    "yield_oranges = [350,380,400,380,420,410]"
   ]
  },
  {
   "cell_type": "code",
   "execution_count": 72,
   "id": "7817f708",
   "metadata": {},
   "outputs": [
    {
     "data": {
      "image/png": "[encoded data removed]",
      "text/plain": [
       "<Figure size 432x288 with 1 Axes>"
      ]
     },
     "metadata": {
      "needs_background": "light"
     },
     "output_type": "display_data"
    }
   ],
   "source": [
    "plt.plot(year,yield_apples)\n",
    "plt.plot(year,yield_oranges)\n",
    "plt.xlabel('Year')\n",
    "plt.ylabel('Yield_in_Tonnes');"
   ]
  },
  {
   "cell_type": "markdown",
   "id": "5d6e2308",
   "metadata": {},
   "source": [
    "Chart title and legend"
   ]
  },
  {
   "cell_type": "code",
   "execution_count": 69,
   "id": "5674b451",
   "metadata": {},
   "outputs": [
    {
     "data": {
      "image/png": "[encoded data removed]",
      "text/plain": [
       "<Figure size 432x288 with 1 Axes>"
      ]
     },
     "metadata": {
      "needs_background": "light"
     },
     "output_type": "display_data"
    }
   ],
   "source": [
    "plt.plot(year,yield_apples)\n",
    "plt.plot(year,yield_oranges)\n",
    "\n",
    "plt.xlabel('Year')\n",
    "plt.ylabel('Yield_in_Tonnes')\n",
    "\n",
    "plt.title(\"Crop yields in Karur\")\n",
    "plt.legend(['Apples','Oranges']);\n",
    "\n"
   ]
  },
  {
   "cell_type": "markdown",
   "id": "6578c3a3",
   "metadata": {},
   "source": [
    "Line Markers"
   ]
  },
  {
   "cell_type": "markdown",
   "id": "42caba69",
   "metadata": {},
   "source": [
    "Markers on each of the lines in the plot can be used to understand the precise location of the datapoint.\n",
    "\n",
    "It is done using the marker argument from plt.plot.\n",
    "\n",
    "Matplot lib supports many different types of markers like circle,cross,square"
   ]
  },
  {
   "cell_type": "code",
   "execution_count": 73,
   "id": "8ffd59f1",
   "metadata": {},
   "outputs": [
    {
     "data": {
      "image/png": "[encoded data removed]",
      "text/plain": [
       "<Figure size 432x288 with 1 Axes>"
      ]
     },
     "metadata": {
      "needs_background": "light"
     },
     "output_type": "display_data"
    }
   ],
   "source": [
    "plt.plot(year,yield_apples,marker='o')\n",
    "plt.plot(year,yield_oranges,marker='x')\n",
    "\n",
    "plt.xlabel('Year')\n",
    "plt.ylabel('Yield_in_Tonnes')\n",
    "\n",
    "plt.title(\"Crop yields in Karur\")\n",
    "plt.legend(['Apples','Oranges']);"
   ]
  },
  {
   "cell_type": "markdown",
   "id": "bf483d5d",
   "metadata": {},
   "source": [
    "Styling Lines and Markers"
   ]
  },
  {
   "cell_type": "markdown",
   "id": "8ae9d1b1",
   "metadata": {},
   "source": [
    "The plt.plot function supports many arguments for styling lines and markers:\n",
    "    \n",
    "Color or c: set the color of the line\n",
    "\n",
    "linestyle or ls: Choose between a solid and dashline\n",
    "    \n",
    "linewidth or lw: set the width of a line\n",
    "    \n",
    "markersize or ms: set the size of markers\n",
    "    \n",
    "markeredgecolor or mec: set the edge color for markers\n",
    "    \n",
    "markeredgewidth pr mew: set the edge width for markers\n",
    "    \n",
    "markerfacecolor or mfc: set the fill color for markers\n",
    "    \n",
    "alpha: Opacity of the plot"
   ]
  },
  {
   "cell_type": "code",
   "execution_count": 74,
   "id": "af10dc86",
   "metadata": {},
   "outputs": [
    {
     "data": {
      "image/png": "[encoded data removed]",
      "text/plain": [
       "<Figure size 432x288 with 1 Axes>"
      ]
     },
     "metadata": {
      "needs_background": "light"
     },
     "output_type": "display_data"
    }
   ],
   "source": [
    "plt.plot(year,yield_apples,marker='o',c='b',ls='-',lw=2,ms=8,mew=2)\n",
    "plt.plot(year,yield_oranges,marker='x',c='r',ls='--',lw=3,ms=10,alpha=0.5)\n",
    "\n",
    "plt.xlabel('Year')\n",
    "plt.ylabel('Yield_in_Tonnes')\n",
    "\n",
    "plt.title(\"Crop yields in Karur\")\n",
    "plt.legend(['Apples','Oranges']);"
   ]
  },
  {
   "cell_type": "markdown",
   "id": "b860fb3c",
   "metadata": {},
   "source": [
    "About FMT Argument"
   ]
  },
  {
   "cell_type": "markdown",
   "id": "852605a3",
   "metadata": {},
   "source": [
    "The fmt argument provides a shorthand for specifying the linestyle, marker and color.\n",
    "\n",
    "It can be provided in the thridargument as given as follows"
   ]
  },
  {
   "cell_type": "code",
   "execution_count": 75,
   "id": "483df893",
   "metadata": {},
   "outputs": [
    {
     "data": {
      "image/png": "[encoded data removed]",
      "text/plain": [
       "<Figure size 432x288 with 1 Axes>"
      ]
     },
     "metadata": {
      "needs_background": "light"
     },
     "output_type": "display_data"
    }
   ],
   "source": [
    "plt.plot(year,yield_apples,'s-b')\n",
    "plt.plot(year,yield_oranges,'o--r')\n",
    "\n",
    "plt.xlabel('Year')\n",
    "plt.ylabel('Yield_in_Tonnes')\n",
    "\n",
    "plt.title(\"Crop yields in Karur\")\n",
    "plt.legend(['Apples','Oranges']);"
   ]
  },
  {
   "cell_type": "markdown",
   "id": "896135c3",
   "metadata": {},
   "source": [
    "Changing the Size of the Figure"
   ]
  },
  {
   "cell_type": "code",
   "execution_count": 84,
   "id": "b4eea0b3",
   "metadata": {},
   "outputs": [
    {
     "data": {
      "text/plain": [
       "<matplotlib.legend.Legend at 0x2a3053d1a30>"
      ]
     },
     "execution_count": 84,
     "metadata": {},
     "output_type": "execute_result"
    },
    {
     "data": {
      "image/png": "[encoded data removed]",
      "text/plain": [
       "<Figure size 360x360 with 1 Axes>"
      ]
     },
     "metadata": {
      "needs_background": "light"
     },
     "output_type": "display_data"
    }
   ],
   "source": [
    "plt.figure(figsize=(5,5))\n",
    "\n",
    "plt.plot(year,yield_apples,'or')\n",
    "plt.title(\"Yield of Apples\")\n",
    "plt.legend(['Apples'])"
   ]
  },
  {
   "cell_type": "markdown",
   "id": "eceab9aa",
   "metadata": {},
   "source": [
    "Improving Default Styles using SeaBorn"
   ]
  },
  {
   "cell_type": "code",
   "execution_count": 85,
   "id": "0f11137b",
   "metadata": {},
   "outputs": [],
   "source": [
    "sns.set_style(\"whitegrid\")"
   ]
  },
  {
   "cell_type": "code",
   "execution_count": 86,
   "id": "da68b347",
   "metadata": {},
   "outputs": [
    {
     "data": {
      "image/png": "[encoded data removed]",
      "text/plain": [
       "<Figure size 432x288 with 1 Axes>"
      ]
     },
     "metadata": {},
     "output_type": "display_data"
    }
   ],
   "source": [
    "plt.plot(year,yield_apples,'s-b')\n",
    "plt.plot(year,yield_oranges,'o--r')\n",
    "\n",
    "plt.xlabel('Year')\n",
    "plt.ylabel('Yield_in_Tonnes')\n",
    "\n",
    "plt.title(\"Crop yields in Karur\")\n",
    "plt.legend(['Apples','Oranges']);"
   ]
  },
  {
   "cell_type": "code",
   "execution_count": 87,
   "id": "f14de668",
   "metadata": {},
   "outputs": [],
   "source": [
    "sns.set_style(\"darkgrid\")"
   ]
  },
  {
   "cell_type": "code",
   "execution_count": 88,
   "id": "c26d7fef",
   "metadata": {},
   "outputs": [
    {
     "data": {
      "image/png": "[encoded data removed]",
      "text/plain": [
       "<Figure size 432x288 with 1 Axes>"
      ]
     },
     "metadata": {},
     "output_type": "display_data"
    }
   ],
   "source": [
    "plt.plot(year,yield_apples,'s-b')\n",
    "plt.plot(year,yield_oranges,'o--r')\n",
    "\n",
    "plt.xlabel('Year')\n",
    "plt.ylabel('Yield_in_Tonnes')\n",
    "\n",
    "plt.title(\"Crop yields in Karur\")\n",
    "plt.legend(['Apples','Oranges']);"
   ]
  },
  {
   "cell_type": "markdown",
   "id": "017f0125",
   "metadata": {},
   "source": [
    "Chnaging the default values in matplotlib"
   ]
  },
  {
   "cell_type": "code",
   "execution_count": 90,
   "id": "a04b81ca",
   "metadata": {},
   "outputs": [],
   "source": [
    "import matplotlib as mlt"
   ]
  },
  {
   "cell_type": "code",
   "execution_count": 91,
   "id": "572b67af",
   "metadata": {},
   "outputs": [],
   "source": [
    "#mlt.rcparams['font.size'] = 14\n",
    "#mlt.rcparams['figure.figsize'] = (9,5)\n",
    "#mlt.rcparams['figure.facecolor'] = '#00000000'"
   ]
  },
  {
   "cell_type": "code",
   "execution_count": null,
   "id": "8ddbde17",
   "metadata": {},
   "outputs": [],
   "source": []
  }
 ],
 "metadata": {
  "kernelspec": {
   "display_name": "Python 3",
   "language": "python",
   "name": "python3"
  },
  "language_info": {
   "codemirror_mode": {
    "name": "ipython",
    "version": 3
   },
   "file_extension": ".py",
   "mimetype": "text/x-python",
   "name": "python",
   "nbconvert_exporter": "python",
   "pygments_lexer": "ipython3",
   "version": "3.8.8"
  }
 },
 "nbformat": 4,
 "nbformat_minor": 5
}
